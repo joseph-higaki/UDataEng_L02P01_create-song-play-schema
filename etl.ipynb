{
 "cells": [
  {
   "cell_type": "markdown",
   "metadata": {},
   "source": [
    "# ETL Processes\n",
    "Use this notebook to develop the ETL process for each of your tables before completing the `etl.py` file to load the whole datasets."
   ]
  },
  {
   "cell_type": "code",
   "execution_count": 1,
   "metadata": {},
   "outputs": [],
   "source": [
    "import os\n",
    "import glob\n",
    "import psycopg2\n",
    "import pandas as pd\n",
    "from sql_queries import *\n",
    "import db_connection_config as config"
   ]
  },
  {
   "cell_type": "code",
   "execution_count": 2,
   "metadata": {},
   "outputs": [],
   "source": [
    "#conn = psycopg2.connect(\"host=127.0.0.1 dbname=sparkifydb user=student password=student\")\n",
    "conn = psycopg2.connect(config.Config().connection_string(dbname=\"sparkifydb\"))\n",
    "cur = conn.cursor()"
   ]
  },
  {
   "cell_type": "code",
   "execution_count": 3,
   "metadata": {},
   "outputs": [],
   "source": [
    "def get_files(filepath):\n",
    "    all_files = []\n",
    "    for root, dirs, files in os.walk(filepath):\n",
    "        files = glob.glob(os.path.join(root,'*.json'))\n",
    "        for f in files :\n",
    "            all_files.append(os.path.abspath(f))\n",
    "    \n",
    "    return all_files"
   ]
  },
  {
   "cell_type": "markdown",
   "metadata": {},
   "source": [
    "# Process `song_data`\n",
    "In this first part, you'll perform ETL on the first dataset, `song_data`, to create the `songs` and `artists` dimensional tables.\n",
    "\n",
    "Let's perform ETL on a single song file and load a single record into each table to start.\n",
    "- Use the `get_files` function provided above to get a list of all song JSON files in `data/song_data`\n",
    "- Select the first song in this list\n",
    "- Read the song file and view the data"
   ]
  },
  {
   "cell_type": "code",
   "execution_count": 4,
   "metadata": {},
   "outputs": [],
   "source": [
    "song_files = get_files('data/song_data')"
   ]
  },
  {
   "cell_type": "code",
   "execution_count": 5,
   "metadata": {},
   "outputs": [
    {
     "name": "stdout",
     "output_type": "stream",
     "text": [
      "['c:\\\\Users\\\\josep\\\\OneDrive\\\\Documentos\\\\projects\\\\UdacityDeng\\\\UDENG_L02P01\\\\data\\\\song_data\\\\A\\\\A\\\\A\\\\TRAAAAW128F429D538.json', 'c:\\\\Users\\\\josep\\\\OneDrive\\\\Documentos\\\\projects\\\\UdacityDeng\\\\UDENG_L02P01\\\\data\\\\song_data\\\\A\\\\A\\\\A\\\\TRAAABD128F429CF47.json', 'c:\\\\Users\\\\josep\\\\OneDrive\\\\Documentos\\\\projects\\\\UdacityDeng\\\\UDENG_L02P01\\\\data\\\\song_data\\\\A\\\\A\\\\A\\\\TRAAADZ128F9348C2E.json', 'c:\\\\Users\\\\josep\\\\OneDrive\\\\Documentos\\\\projects\\\\UdacityDeng\\\\UDENG_L02P01\\\\data\\\\song_data\\\\A\\\\A\\\\A\\\\TRAAAEF128F4273421.json', 'c:\\\\Users\\\\josep\\\\OneDrive\\\\Documentos\\\\projects\\\\UdacityDeng\\\\UDENG_L02P01\\\\data\\\\song_data\\\\A\\\\A\\\\A\\\\TRAAAFD128F92F423A.json', 'c:\\\\Users\\\\josep\\\\OneDrive\\\\Documentos\\\\projects\\\\UdacityDeng\\\\UDENG_L02P01\\\\data\\\\song_data\\\\A\\\\A\\\\A\\\\TRAAAMO128F1481E7F.json', 'c:\\\\Users\\\\josep\\\\OneDrive\\\\Documentos\\\\projects\\\\UdacityDeng\\\\UDENG_L02P01\\\\data\\\\song_data\\\\A\\\\A\\\\A\\\\TRAAAMQ128F1460CD3.json', 'c:\\\\Users\\\\josep\\\\OneDrive\\\\Documentos\\\\projects\\\\UdacityDeng\\\\UDENG_L02P01\\\\data\\\\song_data\\\\A\\\\A\\\\A\\\\TRAAAPK128E0786D96.json', 'c:\\\\Users\\\\josep\\\\OneDrive\\\\Documentos\\\\projects\\\\UdacityDeng\\\\UDENG_L02P01\\\\data\\\\song_data\\\\A\\\\A\\\\A\\\\TRAAARJ128F9320760.json', 'c:\\\\Users\\\\josep\\\\OneDrive\\\\Documentos\\\\projects\\\\UdacityDeng\\\\UDENG_L02P01\\\\data\\\\song_data\\\\A\\\\A\\\\A\\\\TRAAAVG12903CFA543.json', 'c:\\\\Users\\\\josep\\\\OneDrive\\\\Documentos\\\\projects\\\\UdacityDeng\\\\UDENG_L02P01\\\\data\\\\song_data\\\\A\\\\A\\\\A\\\\TRAAAVO128F93133D4.json', 'c:\\\\Users\\\\josep\\\\OneDrive\\\\Documentos\\\\projects\\\\UdacityDeng\\\\UDENG_L02P01\\\\data\\\\song_data\\\\A\\\\A\\\\B\\\\TRAABCL128F4286650.json', 'c:\\\\Users\\\\josep\\\\OneDrive\\\\Documentos\\\\projects\\\\UdacityDeng\\\\UDENG_L02P01\\\\data\\\\song_data\\\\A\\\\A\\\\B\\\\TRAABDL12903CAABBA.json', 'c:\\\\Users\\\\josep\\\\OneDrive\\\\Documentos\\\\projects\\\\UdacityDeng\\\\UDENG_L02P01\\\\data\\\\song_data\\\\A\\\\A\\\\B\\\\TRAABJL12903CDCF1A.json', 'c:\\\\Users\\\\josep\\\\OneDrive\\\\Documentos\\\\projects\\\\UdacityDeng\\\\UDENG_L02P01\\\\data\\\\song_data\\\\A\\\\A\\\\B\\\\TRAABJV128F1460C49.json', 'c:\\\\Users\\\\josep\\\\OneDrive\\\\Documentos\\\\projects\\\\UdacityDeng\\\\UDENG_L02P01\\\\data\\\\song_data\\\\A\\\\A\\\\B\\\\TRAABLR128F423B7E3.json', 'c:\\\\Users\\\\josep\\\\OneDrive\\\\Documentos\\\\projects\\\\UdacityDeng\\\\UDENG_L02P01\\\\data\\\\song_data\\\\A\\\\A\\\\B\\\\TRAABNV128F425CEE1.json', 'c:\\\\Users\\\\josep\\\\OneDrive\\\\Documentos\\\\projects\\\\UdacityDeng\\\\UDENG_L02P01\\\\data\\\\song_data\\\\A\\\\A\\\\B\\\\TRAABRB128F9306DD5.json', 'c:\\\\Users\\\\josep\\\\OneDrive\\\\Documentos\\\\projects\\\\UdacityDeng\\\\UDENG_L02P01\\\\data\\\\song_data\\\\A\\\\A\\\\B\\\\TRAABVM128F92CA9DC.json', 'c:\\\\Users\\\\josep\\\\OneDrive\\\\Documentos\\\\projects\\\\UdacityDeng\\\\UDENG_L02P01\\\\data\\\\song_data\\\\A\\\\A\\\\B\\\\TRAABXG128F9318EBD.json', 'c:\\\\Users\\\\josep\\\\OneDrive\\\\Documentos\\\\projects\\\\UdacityDeng\\\\UDENG_L02P01\\\\data\\\\song_data\\\\A\\\\A\\\\B\\\\TRAABYN12903CFD305.json', 'c:\\\\Users\\\\josep\\\\OneDrive\\\\Documentos\\\\projects\\\\UdacityDeng\\\\UDENG_L02P01\\\\data\\\\song_data\\\\A\\\\A\\\\B\\\\TRAABYW128F4244559.json', 'c:\\\\Users\\\\josep\\\\OneDrive\\\\Documentos\\\\projects\\\\UdacityDeng\\\\UDENG_L02P01\\\\data\\\\song_data\\\\A\\\\A\\\\C\\\\TRAACCG128F92E8A55.json', 'c:\\\\Users\\\\josep\\\\OneDrive\\\\Documentos\\\\projects\\\\UdacityDeng\\\\UDENG_L02P01\\\\data\\\\song_data\\\\A\\\\A\\\\C\\\\TRAACER128F4290F96.json', 'c:\\\\Users\\\\josep\\\\OneDrive\\\\Documentos\\\\projects\\\\UdacityDeng\\\\UDENG_L02P01\\\\data\\\\song_data\\\\A\\\\A\\\\C\\\\TRAACFV128F935E50B.json', 'c:\\\\Users\\\\josep\\\\OneDrive\\\\Documentos\\\\projects\\\\UdacityDeng\\\\UDENG_L02P01\\\\data\\\\song_data\\\\A\\\\A\\\\C\\\\TRAACHN128F1489601.json', 'c:\\\\Users\\\\josep\\\\OneDrive\\\\Documentos\\\\projects\\\\UdacityDeng\\\\UDENG_L02P01\\\\data\\\\song_data\\\\A\\\\A\\\\C\\\\TRAACIW12903CC0F6D.json', 'c:\\\\Users\\\\josep\\\\OneDrive\\\\Documentos\\\\projects\\\\UdacityDeng\\\\UDENG_L02P01\\\\data\\\\song_data\\\\A\\\\A\\\\C\\\\TRAACLV128F427E123.json', 'c:\\\\Users\\\\josep\\\\OneDrive\\\\Documentos\\\\projects\\\\UdacityDeng\\\\UDENG_L02P01\\\\data\\\\song_data\\\\A\\\\A\\\\C\\\\TRAACNS128F14A2DF5.json', 'c:\\\\Users\\\\josep\\\\OneDrive\\\\Documentos\\\\projects\\\\UdacityDeng\\\\UDENG_L02P01\\\\data\\\\song_data\\\\A\\\\A\\\\C\\\\TRAACOW128F933E35F.json', 'c:\\\\Users\\\\josep\\\\OneDrive\\\\Documentos\\\\projects\\\\UdacityDeng\\\\UDENG_L02P01\\\\data\\\\song_data\\\\A\\\\A\\\\C\\\\TRAACPE128F421C1B9.json', 'c:\\\\Users\\\\josep\\\\OneDrive\\\\Documentos\\\\projects\\\\UdacityDeng\\\\UDENG_L02P01\\\\data\\\\song_data\\\\A\\\\A\\\\C\\\\TRAACQT128F9331780.json', 'c:\\\\Users\\\\josep\\\\OneDrive\\\\Documentos\\\\projects\\\\UdacityDeng\\\\UDENG_L02P01\\\\data\\\\song_data\\\\A\\\\A\\\\C\\\\TRAACSL128F93462F4.json', 'c:\\\\Users\\\\josep\\\\OneDrive\\\\Documentos\\\\projects\\\\UdacityDeng\\\\UDENG_L02P01\\\\data\\\\song_data\\\\A\\\\A\\\\C\\\\TRAACTB12903CAAF15.json', 'c:\\\\Users\\\\josep\\\\OneDrive\\\\Documentos\\\\projects\\\\UdacityDeng\\\\UDENG_L02P01\\\\data\\\\song_data\\\\A\\\\A\\\\C\\\\TRAACVS128E078BE39.json', 'c:\\\\Users\\\\josep\\\\OneDrive\\\\Documentos\\\\projects\\\\UdacityDeng\\\\UDENG_L02P01\\\\data\\\\song_data\\\\A\\\\A\\\\C\\\\TRAACZK128F4243829.json', 'c:\\\\Users\\\\josep\\\\OneDrive\\\\Documentos\\\\projects\\\\UdacityDeng\\\\UDENG_L02P01\\\\data\\\\song_data\\\\A\\\\B\\\\A\\\\TRABACN128F425B784.json', 'c:\\\\Users\\\\josep\\\\OneDrive\\\\Documentos\\\\projects\\\\UdacityDeng\\\\UDENG_L02P01\\\\data\\\\song_data\\\\A\\\\B\\\\A\\\\TRABAFJ128F42AF24E.json', 'c:\\\\Users\\\\josep\\\\OneDrive\\\\Documentos\\\\projects\\\\UdacityDeng\\\\UDENG_L02P01\\\\data\\\\song_data\\\\A\\\\B\\\\A\\\\TRABAFP128F931E9A1.json', 'c:\\\\Users\\\\josep\\\\OneDrive\\\\Documentos\\\\projects\\\\UdacityDeng\\\\UDENG_L02P01\\\\data\\\\song_data\\\\A\\\\B\\\\A\\\\TRABAIO128F42938F9.json', 'c:\\\\Users\\\\josep\\\\OneDrive\\\\Documentos\\\\projects\\\\UdacityDeng\\\\UDENG_L02P01\\\\data\\\\song_data\\\\A\\\\B\\\\A\\\\TRABATO128F42627E9.json', 'c:\\\\Users\\\\josep\\\\OneDrive\\\\Documentos\\\\projects\\\\UdacityDeng\\\\UDENG_L02P01\\\\data\\\\song_data\\\\A\\\\B\\\\A\\\\TRABAVQ12903CBF7E0.json', 'c:\\\\Users\\\\josep\\\\OneDrive\\\\Documentos\\\\projects\\\\UdacityDeng\\\\UDENG_L02P01\\\\data\\\\song_data\\\\A\\\\B\\\\A\\\\TRABAWW128F4250A31.json', 'c:\\\\Users\\\\josep\\\\OneDrive\\\\Documentos\\\\projects\\\\UdacityDeng\\\\UDENG_L02P01\\\\data\\\\song_data\\\\A\\\\B\\\\A\\\\TRABAXL128F424FC50.json', 'c:\\\\Users\\\\josep\\\\OneDrive\\\\Documentos\\\\projects\\\\UdacityDeng\\\\UDENG_L02P01\\\\data\\\\song_data\\\\A\\\\B\\\\A\\\\TRABAXR128F426515F.json', 'c:\\\\Users\\\\josep\\\\OneDrive\\\\Documentos\\\\projects\\\\UdacityDeng\\\\UDENG_L02P01\\\\data\\\\song_data\\\\A\\\\B\\\\A\\\\TRABAXV128F92F6AE3.json', 'c:\\\\Users\\\\josep\\\\OneDrive\\\\Documentos\\\\projects\\\\UdacityDeng\\\\UDENG_L02P01\\\\data\\\\song_data\\\\A\\\\B\\\\A\\\\TRABAZH128F930419A.json', 'c:\\\\Users\\\\josep\\\\OneDrive\\\\Documentos\\\\projects\\\\UdacityDeng\\\\UDENG_L02P01\\\\data\\\\song_data\\\\A\\\\B\\\\B\\\\TRABBAM128F429D223.json', 'c:\\\\Users\\\\josep\\\\OneDrive\\\\Documentos\\\\projects\\\\UdacityDeng\\\\UDENG_L02P01\\\\data\\\\song_data\\\\A\\\\B\\\\B\\\\TRABBBV128F42967D7.json', 'c:\\\\Users\\\\josep\\\\OneDrive\\\\Documentos\\\\projects\\\\UdacityDeng\\\\UDENG_L02P01\\\\data\\\\song_data\\\\A\\\\B\\\\B\\\\TRABBJE12903CDB442.json', 'c:\\\\Users\\\\josep\\\\OneDrive\\\\Documentos\\\\projects\\\\UdacityDeng\\\\UDENG_L02P01\\\\data\\\\song_data\\\\A\\\\B\\\\B\\\\TRABBKX128F4285205.json', 'c:\\\\Users\\\\josep\\\\OneDrive\\\\Documentos\\\\projects\\\\UdacityDeng\\\\UDENG_L02P01\\\\data\\\\song_data\\\\A\\\\B\\\\B\\\\TRABBLU128F93349CF.json', 'c:\\\\Users\\\\josep\\\\OneDrive\\\\Documentos\\\\projects\\\\UdacityDeng\\\\UDENG_L02P01\\\\data\\\\song_data\\\\A\\\\B\\\\B\\\\TRABBNP128F932546F.json', 'c:\\\\Users\\\\josep\\\\OneDrive\\\\Documentos\\\\projects\\\\UdacityDeng\\\\UDENG_L02P01\\\\data\\\\song_data\\\\A\\\\B\\\\B\\\\TRABBOP128F931B50D.json', 'c:\\\\Users\\\\josep\\\\OneDrive\\\\Documentos\\\\projects\\\\UdacityDeng\\\\UDENG_L02P01\\\\data\\\\song_data\\\\A\\\\B\\\\B\\\\TRABBOR128F4286200.json', 'c:\\\\Users\\\\josep\\\\OneDrive\\\\Documentos\\\\projects\\\\UdacityDeng\\\\UDENG_L02P01\\\\data\\\\song_data\\\\A\\\\B\\\\B\\\\TRABBTA128F933D304.json', 'c:\\\\Users\\\\josep\\\\OneDrive\\\\Documentos\\\\projects\\\\UdacityDeng\\\\UDENG_L02P01\\\\data\\\\song_data\\\\A\\\\B\\\\B\\\\TRABBVJ128F92F7EAA.json', 'c:\\\\Users\\\\josep\\\\OneDrive\\\\Documentos\\\\projects\\\\UdacityDeng\\\\UDENG_L02P01\\\\data\\\\song_data\\\\A\\\\B\\\\B\\\\TRABBXU128F92FEF48.json', 'c:\\\\Users\\\\josep\\\\OneDrive\\\\Documentos\\\\projects\\\\UdacityDeng\\\\UDENG_L02P01\\\\data\\\\song_data\\\\A\\\\B\\\\B\\\\TRABBZN12903CD9297.json', 'c:\\\\Users\\\\josep\\\\OneDrive\\\\Documentos\\\\projects\\\\UdacityDeng\\\\UDENG_L02P01\\\\data\\\\song_data\\\\A\\\\B\\\\C\\\\TRABCAJ12903CDFCC2.json', 'c:\\\\Users\\\\josep\\\\OneDrive\\\\Documentos\\\\projects\\\\UdacityDeng\\\\UDENG_L02P01\\\\data\\\\song_data\\\\A\\\\B\\\\C\\\\TRABCEC128F426456E.json', 'c:\\\\Users\\\\josep\\\\OneDrive\\\\Documentos\\\\projects\\\\UdacityDeng\\\\UDENG_L02P01\\\\data\\\\song_data\\\\A\\\\B\\\\C\\\\TRABCEI128F424C983.json', 'c:\\\\Users\\\\josep\\\\OneDrive\\\\Documentos\\\\projects\\\\UdacityDeng\\\\UDENG_L02P01\\\\data\\\\song_data\\\\A\\\\B\\\\C\\\\TRABCFL128F149BB0D.json', 'c:\\\\Users\\\\josep\\\\OneDrive\\\\Documentos\\\\projects\\\\UdacityDeng\\\\UDENG_L02P01\\\\data\\\\song_data\\\\A\\\\B\\\\C\\\\TRABCIX128F4265903.json', 'c:\\\\Users\\\\josep\\\\OneDrive\\\\Documentos\\\\projects\\\\UdacityDeng\\\\UDENG_L02P01\\\\data\\\\song_data\\\\A\\\\B\\\\C\\\\TRABCKL128F423A778.json', 'c:\\\\Users\\\\josep\\\\OneDrive\\\\Documentos\\\\projects\\\\UdacityDeng\\\\UDENG_L02P01\\\\data\\\\song_data\\\\A\\\\B\\\\C\\\\TRABCPZ128F4275C32.json', 'c:\\\\Users\\\\josep\\\\OneDrive\\\\Documentos\\\\projects\\\\UdacityDeng\\\\UDENG_L02P01\\\\data\\\\song_data\\\\A\\\\B\\\\C\\\\TRABCRU128F423F449.json', 'c:\\\\Users\\\\josep\\\\OneDrive\\\\Documentos\\\\projects\\\\UdacityDeng\\\\UDENG_L02P01\\\\data\\\\song_data\\\\A\\\\B\\\\C\\\\TRABCTK128F934B224.json', 'c:\\\\Users\\\\josep\\\\OneDrive\\\\Documentos\\\\projects\\\\UdacityDeng\\\\UDENG_L02P01\\\\data\\\\song_data\\\\A\\\\B\\\\C\\\\TRABCUQ128E0783E2B.json', 'c:\\\\Users\\\\josep\\\\OneDrive\\\\Documentos\\\\projects\\\\UdacityDeng\\\\UDENG_L02P01\\\\data\\\\song_data\\\\A\\\\B\\\\C\\\\TRABCXB128F4286BD3.json', 'c:\\\\Users\\\\josep\\\\OneDrive\\\\Documentos\\\\projects\\\\UdacityDeng\\\\UDENG_L02P01\\\\data\\\\song_data\\\\A\\\\B\\\\C\\\\TRABCYE128F934CE1D.json']\n"
     ]
    }
   ],
   "source": [
    "print(song_files)"
   ]
  },
  {
   "cell_type": "code",
   "execution_count": 6,
   "metadata": {},
   "outputs": [
    {
     "data": {
      "text/plain": [
       "'c:\\\\Users\\\\josep\\\\OneDrive\\\\Documentos\\\\projects\\\\UdacityDeng\\\\UDENG_L02P01\\\\data\\\\song_data\\\\A\\\\A\\\\A\\\\TRAAAAW128F429D538.json'"
      ]
     },
     "execution_count": 6,
     "metadata": {},
     "output_type": "execute_result"
    }
   ],
   "source": [
    "filepath = song_files[0]\n",
    "filepath\n"
   ]
  },
  {
   "cell_type": "code",
   "execution_count": 7,
   "metadata": {},
   "outputs": [
    {
     "data": {
      "text/html": [
       "<div>\n",
       "<style scoped>\n",
       "    .dataframe tbody tr th:only-of-type {\n",
       "        vertical-align: middle;\n",
       "    }\n",
       "\n",
       "    .dataframe tbody tr th {\n",
       "        vertical-align: top;\n",
       "    }\n",
       "\n",
       "    .dataframe thead th {\n",
       "        text-align: right;\n",
       "    }\n",
       "</style>\n",
       "<table border=\"1\" class=\"dataframe\">\n",
       "  <thead>\n",
       "    <tr style=\"text-align: right;\">\n",
       "      <th></th>\n",
       "      <th>num_songs</th>\n",
       "      <th>artist_id</th>\n",
       "      <th>artist_latitude</th>\n",
       "      <th>artist_longitude</th>\n",
       "      <th>artist_location</th>\n",
       "      <th>artist_name</th>\n",
       "      <th>song_id</th>\n",
       "      <th>title</th>\n",
       "      <th>duration</th>\n",
       "      <th>year</th>\n",
       "    </tr>\n",
       "  </thead>\n",
       "  <tbody>\n",
       "    <tr>\n",
       "      <th>0</th>\n",
       "      <td>1</td>\n",
       "      <td>ARD7TVE1187B99BFB1</td>\n",
       "      <td>NaN</td>\n",
       "      <td>NaN</td>\n",
       "      <td>California - LA</td>\n",
       "      <td>Casual</td>\n",
       "      <td>SOMZWCG12A8C13C480</td>\n",
       "      <td>I Didn't Mean To</td>\n",
       "      <td>218.93179</td>\n",
       "      <td>0</td>\n",
       "    </tr>\n",
       "  </tbody>\n",
       "</table>\n",
       "</div>"
      ],
      "text/plain": [
       "   num_songs           artist_id  artist_latitude  artist_longitude  \\\n",
       "0          1  ARD7TVE1187B99BFB1              NaN               NaN   \n",
       "\n",
       "   artist_location artist_name             song_id             title  \\\n",
       "0  California - LA      Casual  SOMZWCG12A8C13C480  I Didn't Mean To   \n",
       "\n",
       "    duration  year  \n",
       "0  218.93179     0  "
      ]
     },
     "execution_count": 7,
     "metadata": {},
     "output_type": "execute_result"
    }
   ],
   "source": [
    "df = pd.read_json(filepath, lines=True) \n",
    "df.head()"
   ]
  },
  {
   "cell_type": "markdown",
   "metadata": {},
   "source": [
    "## #1: `songs` Table\n",
    "#### Extract Data for Songs Table\n",
    "- Select columns for song ID, title, artist ID, year, and duration\n",
    "- Use `df.values` to select just the values from the dataframe\n",
    "- Index to select the first (only) record in the dataframe\n",
    "- Convert the array to a list and set it to `song_data`"
   ]
  },
  {
   "cell_type": "code",
   "execution_count": 8,
   "metadata": {},
   "outputs": [
    {
     "data": {
      "text/plain": [
       "{'song_id': 'SOMZWCG12A8C13C480',\n",
       " 'title': \"I Didn't Mean To\",\n",
       " 'artist_id': 'ARD7TVE1187B99BFB1',\n",
       " 'year': 0,\n",
       " 'duration': 218.93179}"
      ]
     },
     "execution_count": 8,
     "metadata": {},
     "output_type": "execute_result"
    }
   ],
   "source": [
    "\n",
    "song_data = df[[\"song_id\", \"title\", \"artist_id\", \"year\", \"duration\"]].to_dict('records')[0]\n",
    "song_data"
   ]
  },
  {
   "cell_type": "markdown",
   "metadata": {},
   "source": [
    "#### Insert Record into Song Table\n",
    "Implement the `song_table_insert` query in `sql_queries.py` and run the cell below to insert a record for this song into the `songs` table. Remember to run `create_tables.py` before running the cell below to ensure you've created/resetted the `songs` table in the sparkify database."
   ]
  },
  {
   "cell_type": "code",
   "execution_count": 10,
   "metadata": {},
   "outputs": [],
   "source": [
    "cur.execute(song_table_insert, song_data)\n",
    "conn.commit()"
   ]
  },
  {
   "cell_type": "code",
   "execution_count": 15,
   "metadata": {},
   "outputs": [],
   "source": [
    "conn.commit()"
   ]
  },
  {
   "cell_type": "markdown",
   "metadata": {},
   "source": [
    "Run `test.ipynb` to see if you've successfully added a record to this table."
   ]
  },
  {
   "cell_type": "markdown",
   "metadata": {},
   "source": [
    "## #2: `artists` Table\n",
    "#### Extract Data for Artists Table\n",
    "- Select columns for artist ID, name, location, latitude, and longitude\n",
    "- Use `df.values` to select just the values from the dataframe\n",
    "- Index to select the first (only) record in the dataframe\n",
    "- Convert the array to a list and set it to `artist_data`"
   ]
  },
  {
   "cell_type": "code",
   "execution_count": null,
   "metadata": {},
   "outputs": [],
   "source": [
    "artist_data = \n",
    "artist_data"
   ]
  },
  {
   "cell_type": "markdown",
   "metadata": {},
   "source": [
    "#### Insert Record into Artist Table\n",
    "Implement the `artist_table_insert` query in `sql_queries.py` and run the cell below to insert a record for this song's artist into the `artists` table. Remember to run `create_tables.py` before running the cell below to ensure you've created/resetted the `artists` table in the sparkify database."
   ]
  },
  {
   "cell_type": "code",
   "execution_count": null,
   "metadata": {},
   "outputs": [],
   "source": [
    "cur.execute(artist_table_insert, artist_data)\n",
    "conn.commit()"
   ]
  },
  {
   "cell_type": "markdown",
   "metadata": {},
   "source": [
    "Run `test.ipynb` to see if you've successfully added a record to this table."
   ]
  },
  {
   "cell_type": "markdown",
   "metadata": {},
   "source": [
    "# Process `log_data`\n",
    "In this part, you'll perform ETL on the second dataset, `log_data`, to create the `time` and `users` dimensional tables, as well as the `songplays` fact table.\n",
    "\n",
    "Let's perform ETL on a single log file and load a single record into each table.\n",
    "- Use the `get_files` function provided above to get a list of all log JSON files in `data/log_data`\n",
    "- Select the first log file in this list\n",
    "- Read the log file and view the data"
   ]
  },
  {
   "cell_type": "code",
   "execution_count": 27,
   "metadata": {},
   "outputs": [],
   "source": [
    "log_files = get_files('data/log_data')"
   ]
  },
  {
   "cell_type": "code",
   "execution_count": 28,
   "metadata": {},
   "outputs": [],
   "source": [
    "filepath = log_files[0]"
   ]
  },
  {
   "cell_type": "code",
   "execution_count": 34,
   "metadata": {},
   "outputs": [
    {
     "data": {
      "text/html": [
       "<div>\n",
       "<style scoped>\n",
       "    .dataframe tbody tr th:only-of-type {\n",
       "        vertical-align: middle;\n",
       "    }\n",
       "\n",
       "    .dataframe tbody tr th {\n",
       "        vertical-align: top;\n",
       "    }\n",
       "\n",
       "    .dataframe thead th {\n",
       "        text-align: right;\n",
       "    }\n",
       "</style>\n",
       "<table border=\"1\" class=\"dataframe\">\n",
       "  <thead>\n",
       "    <tr style=\"text-align: right;\">\n",
       "      <th></th>\n",
       "      <th>artist</th>\n",
       "      <th>auth</th>\n",
       "      <th>firstName</th>\n",
       "      <th>gender</th>\n",
       "      <th>itemInSession</th>\n",
       "      <th>lastName</th>\n",
       "      <th>length</th>\n",
       "      <th>level</th>\n",
       "      <th>location</th>\n",
       "      <th>method</th>\n",
       "      <th>page</th>\n",
       "      <th>registration</th>\n",
       "      <th>sessionId</th>\n",
       "      <th>song</th>\n",
       "      <th>status</th>\n",
       "      <th>ts</th>\n",
       "      <th>userAgent</th>\n",
       "      <th>userId</th>\n",
       "    </tr>\n",
       "  </thead>\n",
       "  <tbody>\n",
       "    <tr>\n",
       "      <th>0</th>\n",
       "      <td>None</td>\n",
       "      <td>Logged In</td>\n",
       "      <td>Walter</td>\n",
       "      <td>M</td>\n",
       "      <td>0</td>\n",
       "      <td>Frye</td>\n",
       "      <td>NaN</td>\n",
       "      <td>free</td>\n",
       "      <td>San Francisco-Oakland-Hayward, CA</td>\n",
       "      <td>GET</td>\n",
       "      <td>Home</td>\n",
       "      <td>1540919166796</td>\n",
       "      <td>38</td>\n",
       "      <td>None</td>\n",
       "      <td>200</td>\n",
       "      <td>1541105830796</td>\n",
       "      <td>\"Mozilla/5.0 (Macintosh; Intel Mac OS X 10_9_4...</td>\n",
       "      <td>39</td>\n",
       "    </tr>\n",
       "    <tr>\n",
       "      <th>1</th>\n",
       "      <td>None</td>\n",
       "      <td>Logged In</td>\n",
       "      <td>Kaylee</td>\n",
       "      <td>F</td>\n",
       "      <td>0</td>\n",
       "      <td>Summers</td>\n",
       "      <td>NaN</td>\n",
       "      <td>free</td>\n",
       "      <td>Phoenix-Mesa-Scottsdale, AZ</td>\n",
       "      <td>GET</td>\n",
       "      <td>Home</td>\n",
       "      <td>1540344794796</td>\n",
       "      <td>139</td>\n",
       "      <td>None</td>\n",
       "      <td>200</td>\n",
       "      <td>1541106106796</td>\n",
       "      <td>\"Mozilla/5.0 (Windows NT 6.1; WOW64) AppleWebK...</td>\n",
       "      <td>8</td>\n",
       "    </tr>\n",
       "    <tr>\n",
       "      <th>2</th>\n",
       "      <td>Des'ree</td>\n",
       "      <td>Logged In</td>\n",
       "      <td>Kaylee</td>\n",
       "      <td>F</td>\n",
       "      <td>1</td>\n",
       "      <td>Summers</td>\n",
       "      <td>246.30812</td>\n",
       "      <td>free</td>\n",
       "      <td>Phoenix-Mesa-Scottsdale, AZ</td>\n",
       "      <td>PUT</td>\n",
       "      <td>NextSong</td>\n",
       "      <td>1540344794796</td>\n",
       "      <td>139</td>\n",
       "      <td>You Gotta Be</td>\n",
       "      <td>200</td>\n",
       "      <td>1541106106796</td>\n",
       "      <td>\"Mozilla/5.0 (Windows NT 6.1; WOW64) AppleWebK...</td>\n",
       "      <td>8</td>\n",
       "    </tr>\n",
       "    <tr>\n",
       "      <th>3</th>\n",
       "      <td>None</td>\n",
       "      <td>Logged In</td>\n",
       "      <td>Kaylee</td>\n",
       "      <td>F</td>\n",
       "      <td>2</td>\n",
       "      <td>Summers</td>\n",
       "      <td>NaN</td>\n",
       "      <td>free</td>\n",
       "      <td>Phoenix-Mesa-Scottsdale, AZ</td>\n",
       "      <td>GET</td>\n",
       "      <td>Upgrade</td>\n",
       "      <td>1540344794796</td>\n",
       "      <td>139</td>\n",
       "      <td>None</td>\n",
       "      <td>200</td>\n",
       "      <td>1541106132796</td>\n",
       "      <td>\"Mozilla/5.0 (Windows NT 6.1; WOW64) AppleWebK...</td>\n",
       "      <td>8</td>\n",
       "    </tr>\n",
       "    <tr>\n",
       "      <th>4</th>\n",
       "      <td>Mr Oizo</td>\n",
       "      <td>Logged In</td>\n",
       "      <td>Kaylee</td>\n",
       "      <td>F</td>\n",
       "      <td>3</td>\n",
       "      <td>Summers</td>\n",
       "      <td>144.03873</td>\n",
       "      <td>free</td>\n",
       "      <td>Phoenix-Mesa-Scottsdale, AZ</td>\n",
       "      <td>PUT</td>\n",
       "      <td>NextSong</td>\n",
       "      <td>1540344794796</td>\n",
       "      <td>139</td>\n",
       "      <td>Flat 55</td>\n",
       "      <td>200</td>\n",
       "      <td>1541106352796</td>\n",
       "      <td>\"Mozilla/5.0 (Windows NT 6.1; WOW64) AppleWebK...</td>\n",
       "      <td>8</td>\n",
       "    </tr>\n",
       "  </tbody>\n",
       "</table>\n",
       "</div>"
      ],
      "text/plain": [
       "    artist       auth firstName gender  itemInSession lastName     length  \\\n",
       "0     None  Logged In    Walter      M              0     Frye        NaN   \n",
       "1     None  Logged In    Kaylee      F              0  Summers        NaN   \n",
       "2  Des'ree  Logged In    Kaylee      F              1  Summers  246.30812   \n",
       "3     None  Logged In    Kaylee      F              2  Summers        NaN   \n",
       "4  Mr Oizo  Logged In    Kaylee      F              3  Summers  144.03873   \n",
       "\n",
       "  level                           location method      page   registration  \\\n",
       "0  free  San Francisco-Oakland-Hayward, CA    GET      Home  1540919166796   \n",
       "1  free        Phoenix-Mesa-Scottsdale, AZ    GET      Home  1540344794796   \n",
       "2  free        Phoenix-Mesa-Scottsdale, AZ    PUT  NextSong  1540344794796   \n",
       "3  free        Phoenix-Mesa-Scottsdale, AZ    GET   Upgrade  1540344794796   \n",
       "4  free        Phoenix-Mesa-Scottsdale, AZ    PUT  NextSong  1540344794796   \n",
       "\n",
       "   sessionId          song  status             ts  \\\n",
       "0         38          None     200  1541105830796   \n",
       "1        139          None     200  1541106106796   \n",
       "2        139  You Gotta Be     200  1541106106796   \n",
       "3        139          None     200  1541106132796   \n",
       "4        139       Flat 55     200  1541106352796   \n",
       "\n",
       "                                           userAgent  userId  \n",
       "0  \"Mozilla/5.0 (Macintosh; Intel Mac OS X 10_9_4...      39  \n",
       "1  \"Mozilla/5.0 (Windows NT 6.1; WOW64) AppleWebK...       8  \n",
       "2  \"Mozilla/5.0 (Windows NT 6.1; WOW64) AppleWebK...       8  \n",
       "3  \"Mozilla/5.0 (Windows NT 6.1; WOW64) AppleWebK...       8  \n",
       "4  \"Mozilla/5.0 (Windows NT 6.1; WOW64) AppleWebK...       8  "
      ]
     },
     "execution_count": 34,
     "metadata": {},
     "output_type": "execute_result"
    }
   ],
   "source": [
    "df = pd.read_json(filepath, lines=True) \n",
    "df.head()\n"
   ]
  },
  {
   "cell_type": "code",
   "execution_count": 33,
   "metadata": {},
   "outputs": [
    {
     "data": {
      "text/html": [
       "<div>\n",
       "<style scoped>\n",
       "    .dataframe tbody tr th:only-of-type {\n",
       "        vertical-align: middle;\n",
       "    }\n",
       "\n",
       "    .dataframe tbody tr th {\n",
       "        vertical-align: top;\n",
       "    }\n",
       "\n",
       "    .dataframe thead th {\n",
       "        text-align: right;\n",
       "    }\n",
       "</style>\n",
       "<table border=\"1\" class=\"dataframe\">\n",
       "  <thead>\n",
       "    <tr style=\"text-align: right;\">\n",
       "      <th></th>\n",
       "      <th>itemInSession</th>\n",
       "      <th>length</th>\n",
       "      <th>registration</th>\n",
       "      <th>sessionId</th>\n",
       "      <th>status</th>\n",
       "      <th>ts</th>\n",
       "      <th>userId</th>\n",
       "    </tr>\n",
       "  </thead>\n",
       "  <tbody>\n",
       "    <tr>\n",
       "      <th>count</th>\n",
       "      <td>15.000000</td>\n",
       "      <td>11.000000</td>\n",
       "      <td>1.500000e+01</td>\n",
       "      <td>15.000000</td>\n",
       "      <td>15.0</td>\n",
       "      <td>1.500000e+01</td>\n",
       "      <td>15.000000</td>\n",
       "    </tr>\n",
       "    <tr>\n",
       "      <th>mean</th>\n",
       "      <td>2.600000</td>\n",
       "      <td>244.047339</td>\n",
       "      <td>1.540558e+12</td>\n",
       "      <td>127.000000</td>\n",
       "      <td>200.0</td>\n",
       "      <td>1.541108e+12</td>\n",
       "      <td>20.000000</td>\n",
       "    </tr>\n",
       "    <tr>\n",
       "      <th>std</th>\n",
       "      <td>2.772312</td>\n",
       "      <td>90.252182</td>\n",
       "      <td>3.253735e+08</td>\n",
       "      <td>45.639895</td>\n",
       "      <td>0.0</td>\n",
       "      <td>1.542550e+06</td>\n",
       "      <td>24.532777</td>\n",
       "    </tr>\n",
       "    <tr>\n",
       "      <th>min</th>\n",
       "      <td>0.000000</td>\n",
       "      <td>144.038730</td>\n",
       "      <td>1.540266e+12</td>\n",
       "      <td>9.000000</td>\n",
       "      <td>200.0</td>\n",
       "      <td>1.541106e+12</td>\n",
       "      <td>8.000000</td>\n",
       "    </tr>\n",
       "    <tr>\n",
       "      <th>25%</th>\n",
       "      <td>0.000000</td>\n",
       "      <td>188.956280</td>\n",
       "      <td>1.540345e+12</td>\n",
       "      <td>139.000000</td>\n",
       "      <td>200.0</td>\n",
       "      <td>1.541106e+12</td>\n",
       "      <td>8.000000</td>\n",
       "    </tr>\n",
       "    <tr>\n",
       "      <th>50%</th>\n",
       "      <td>2.000000</td>\n",
       "      <td>233.717100</td>\n",
       "      <td>1.540345e+12</td>\n",
       "      <td>139.000000</td>\n",
       "      <td>200.0</td>\n",
       "      <td>1.541107e+12</td>\n",
       "      <td>8.000000</td>\n",
       "    </tr>\n",
       "    <tr>\n",
       "      <th>75%</th>\n",
       "      <td>4.500000</td>\n",
       "      <td>245.837915</td>\n",
       "      <td>1.540968e+12</td>\n",
       "      <td>139.000000</td>\n",
       "      <td>200.0</td>\n",
       "      <td>1.541109e+12</td>\n",
       "      <td>26.000000</td>\n",
       "    </tr>\n",
       "    <tr>\n",
       "      <th>max</th>\n",
       "      <td>8.000000</td>\n",
       "      <td>440.267300</td>\n",
       "      <td>1.541034e+12</td>\n",
       "      <td>169.000000</td>\n",
       "      <td>200.0</td>\n",
       "      <td>1.541111e+12</td>\n",
       "      <td>101.000000</td>\n",
       "    </tr>\n",
       "  </tbody>\n",
       "</table>\n",
       "</div>"
      ],
      "text/plain": [
       "       itemInSession      length  registration   sessionId  status  \\\n",
       "count      15.000000   11.000000  1.500000e+01   15.000000    15.0   \n",
       "mean        2.600000  244.047339  1.540558e+12  127.000000   200.0   \n",
       "std         2.772312   90.252182  3.253735e+08   45.639895     0.0   \n",
       "min         0.000000  144.038730  1.540266e+12    9.000000   200.0   \n",
       "25%         0.000000  188.956280  1.540345e+12  139.000000   200.0   \n",
       "50%         2.000000  233.717100  1.540345e+12  139.000000   200.0   \n",
       "75%         4.500000  245.837915  1.540968e+12  139.000000   200.0   \n",
       "max         8.000000  440.267300  1.541034e+12  169.000000   200.0   \n",
       "\n",
       "                 ts      userId  \n",
       "count  1.500000e+01   15.000000  \n",
       "mean   1.541108e+12   20.000000  \n",
       "std    1.542550e+06   24.532777  \n",
       "min    1.541106e+12    8.000000  \n",
       "25%    1.541106e+12    8.000000  \n",
       "50%    1.541107e+12    8.000000  \n",
       "75%    1.541109e+12   26.000000  \n",
       "max    1.541111e+12  101.000000  "
      ]
     },
     "execution_count": 33,
     "metadata": {},
     "output_type": "execute_result"
    }
   ],
   "source": [
    "df.describe()"
   ]
  },
  {
   "cell_type": "markdown",
   "metadata": {},
   "source": [
    "## #3: `time` Table\n",
    "#### Extract Data for Time Table\n",
    "- Filter records by `NextSong` action\n",
    "- Convert the `ts` timestamp column to datetime\n",
    "  - Hint: the current timestamp is in milliseconds\n",
    "- Extract the timestamp, hour, day, week of year, month, year, and weekday from the `ts` column and set `time_data` to a list containing these values in order\n",
    "  - Hint: use pandas' [`dt` attribute](https://pandas.pydata.org/pandas-docs/stable/reference/api/pandas.Series.dt.html) to access easily datetimelike properties.\n",
    "- Specify labels for these columns and set to `column_labels`\n",
    "- Create a dataframe, `time_df,` containing the time data for this file by combining `column_labels` and `time_data` into a dictionary and converting this into a dataframe"
   ]
  },
  {
   "cell_type": "code",
   "execution_count": null,
   "metadata": {},
   "outputs": [],
   "source": [
    "df = \n",
    "df.head()"
   ]
  },
  {
   "cell_type": "code",
   "execution_count": null,
   "metadata": {},
   "outputs": [],
   "source": [
    "t = \n",
    "t.head()"
   ]
  },
  {
   "cell_type": "code",
   "execution_count": null,
   "metadata": {},
   "outputs": [],
   "source": [
    "time_data = ()\n",
    "column_labels = ()"
   ]
  },
  {
   "cell_type": "code",
   "execution_count": null,
   "metadata": {},
   "outputs": [],
   "source": [
    "time_df = \n",
    "time_df.head()"
   ]
  },
  {
   "cell_type": "markdown",
   "metadata": {},
   "source": [
    "#### Insert Records into Time Table\n",
    "Implement the `time_table_insert` query in `sql_queries.py` and run the cell below to insert records for the timestamps in this log file into the `time` table. Remember to run `create_tables.py` before running the cell below to ensure you've created/resetted the `time` table in the sparkify database."
   ]
  },
  {
   "cell_type": "code",
   "execution_count": null,
   "metadata": {},
   "outputs": [],
   "source": [
    "for i, row in time_df.iterrows():\n",
    "    cur.execute(time_table_insert, list(row))\n",
    "    conn.commit()"
   ]
  },
  {
   "cell_type": "markdown",
   "metadata": {},
   "source": [
    "Run `test.ipynb` to see if you've successfully added records to this table."
   ]
  },
  {
   "cell_type": "markdown",
   "metadata": {},
   "source": [
    "## #4: `users` Table\n",
    "#### Extract Data for Users Table\n",
    "- Select columns for user ID, first name, last name, gender and level and set to `user_df`"
   ]
  },
  {
   "cell_type": "code",
   "execution_count": null,
   "metadata": {},
   "outputs": [],
   "source": [
    "user_df = "
   ]
  },
  {
   "cell_type": "markdown",
   "metadata": {},
   "source": [
    "#### Insert Records into Users Table\n",
    "Implement the `user_table_insert` query in `sql_queries.py` and run the cell below to insert records for the users in this log file into the `users` table. Remember to run `create_tables.py` before running the cell below to ensure you've created/resetted the `users` table in the sparkify database."
   ]
  },
  {
   "cell_type": "code",
   "execution_count": null,
   "metadata": {},
   "outputs": [],
   "source": [
    "for i, row in user_df.iterrows():\n",
    "    cur.execute(user_table_insert, row)\n",
    "    conn.commit()"
   ]
  },
  {
   "cell_type": "markdown",
   "metadata": {},
   "source": [
    "Run `test.ipynb` to see if you've successfully added records to this table."
   ]
  },
  {
   "cell_type": "markdown",
   "metadata": {},
   "source": [
    "## #5: `songplays` Table\n",
    "#### Extract Data and Songplays Table\n",
    "This one is a little more complicated since information from the songs table, artists table, and original log file are all needed for the `songplays` table. Since the log file does not specify an ID for either the song or the artist, you'll need to get the song ID and artist ID by querying the songs and artists tables to find matches based on song title, artist name, and song duration time.\n",
    "- Implement the `song_select` query in `sql_queries.py` to find the song ID and artist ID based on the title, artist name, and duration of a song.\n",
    "- Select the timestamp, user ID, level, song ID, artist ID, session ID, location, and user agent and set to `songplay_data`\n",
    "\n",
    "#### Insert Records into Songplays Table\n",
    "- Implement the `songplay_table_insert` query and run the cell below to insert records for the songplay actions in this log file into the `songplays` table. Remember to run `create_tables.py` before running the cell below to ensure you've created/resetted the `songplays` table in the sparkify database."
   ]
  },
  {
   "cell_type": "code",
   "execution_count": null,
   "metadata": {},
   "outputs": [],
   "source": [
    "for index, row in df.iterrows():\n",
    "\n",
    "    # get songid and artistid from song and artist tables\n",
    "    cur.execute(song_select, (row.song, row.artist, row.length))\n",
    "    results = cur.fetchone()\n",
    "    \n",
    "    if results:\n",
    "        songid, artistid = results\n",
    "    else:\n",
    "        songid, artistid = None, None\n",
    "\n",
    "    # insert songplay record\n",
    "    songplay_data = ()\n",
    "    cur.execute(songplay_table_insert, songplay_data)\n",
    "    conn.commit()"
   ]
  },
  {
   "cell_type": "markdown",
   "metadata": {},
   "source": [
    "Run `test.ipynb` to see if you've successfully added records to this table."
   ]
  },
  {
   "cell_type": "markdown",
   "metadata": {},
   "source": [
    "# Close Connection to Sparkify Database"
   ]
  },
  {
   "cell_type": "code",
   "execution_count": null,
   "metadata": {},
   "outputs": [],
   "source": [
    "conn.close()"
   ]
  },
  {
   "cell_type": "markdown",
   "metadata": {},
   "source": [
    "# Implement `etl.py`\n",
    "Use what you've completed in this notebook to implement `etl.py`."
   ]
  },
  {
   "cell_type": "code",
   "execution_count": null,
   "metadata": {},
   "outputs": [],
   "source": []
  }
 ],
 "metadata": {
  "kernelspec": {
   "display_name": "Python 3",
   "language": "python",
   "name": "python3"
  },
  "language_info": {
   "codemirror_mode": {
    "name": "ipython",
    "version": 3
   },
   "file_extension": ".py",
   "mimetype": "text/x-python",
   "name": "python",
   "nbconvert_exporter": "python",
   "pygments_lexer": "ipython3",
   "version": "3.8.12"
  }
 },
 "nbformat": 4,
 "nbformat_minor": 2
}
